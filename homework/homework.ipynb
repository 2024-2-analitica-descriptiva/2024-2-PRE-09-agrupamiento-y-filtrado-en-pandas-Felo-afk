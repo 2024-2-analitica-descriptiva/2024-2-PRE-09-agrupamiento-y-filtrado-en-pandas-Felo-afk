{
 "cells": [
  {
   "cell_type": "code",
   "execution_count": null,
   "metadata": {},
   "outputs": [
    {
     "ename": "",
     "evalue": "",
     "output_type": "error",
     "traceback": [
      "\u001b[1;31mLa ejecución de celdas con '.venv (Python 3.12.4)' requiere el paquete ipykernel.\n",
      "\u001b[1;31mEjecute el siguiente comando para instalar 'ipykernel' en el entorno de Python. comando \n",
      "\u001b[1;31m: '\"c:/Users/Lenovo/Desktop/2024-2/Analítica descriptiva/Sesión 4/2024-2-PRE-09-agrupamiento-y-filtrado-en-pandas-Felo-afk/.venv/Scripts/python.exe\" -m pip install ipykernel -U --force-reinstall'"
     ]
    }
   ],
   "source": [
    "import matplotlib\n",
    "import matplotlib.pyplot as plt\n",
    "import pandas as pd\n"
   ]
  },
  {
   "cell_type": "code",
   "execution_count": null,
   "metadata": {},
   "outputs": [],
   "source": [
    "drivers = pd.read_csv(\n",
    "    \"../files/input/drivers.csv\",\n",
    "    sep=\",\",\n",
    "    thousands=None,\n",
    "    decimal=\".\",\n",
    ")\n",
    "drivers.head()\n"
   ]
  },
  {
   "cell_type": "code",
   "execution_count": null,
   "metadata": {},
   "outputs": [],
   "source": [
    "###\n",
    "\n",
    "# Carga de la tabla timesheet\n",
    "timesheet = pd.read_csv(\n",
    "    \"../files/input/timesheet.csv\",\n",
    "    sep=\",\",\n",
    "    thousands=None,\n",
    "    decimal=\".\",\n",
    ")\n",
    "timesheet.head()\n"
   ]
  },
  {
   "cell_type": "code",
   "execution_count": null,
   "metadata": {},
   "outputs": [],
   "source": [
    "###\n",
    "\n",
    "# Media de la cantidad de horas y millas de cada conductor por año\n",
    "mean_timesheet = timesheet.groupby(\"driverId\", as_index=True).mean()\n",
    "mean_timesheet.head()\n"
   ]
  },
  {
   "cell_type": "code",
   "execution_count": null,
   "metadata": {},
   "outputs": [],
   "source": [
    "\n",
    "# Eliminación de la columna 'week'\n",
    "mean_timesheet.pop(\"week\")\n",
    "mean_timesheet.head()\n"
   ]
  },
  {
   "cell_type": "code",
   "execution_count": null,
   "metadata": {},
   "outputs": [],
   "source": [
    "# Registros con valores por debajo de la media del grupo\n",
    "mean_hours_logged_by_driver = timesheet.groupby(\"driverId\")[\"hours-logged\"].transform(\n",
    "    \"mean\"\n",
    ")\n",
    "mean_hours_logged_by_driver\n"
   ]
  },
  {
   "cell_type": "code",
   "execution_count": null,
   "metadata": {},
   "outputs": [],
   "source": [
    "###\n",
    "\n",
    "\n",
    "timesheet_with_means = timesheet.copy()\n",
    "timesheet_with_means[\"mean_hours-logged\"] = mean_hours_logged_by_driver\n",
    "timesheet_with_means\n"
   ]
  },
  {
   "cell_type": "code",
   "execution_count": null,
   "metadata": {},
   "outputs": [],
   "source": [
    "timesheet_with_means = timesheet.copy()\n",
    "timesheet_with_means[\"mean_hours-logged\"] = mean_hours_logged_by_driver\n",
    "timesheet_with_means\n"
   ]
  },
  {
   "cell_type": "code",
   "execution_count": null,
   "metadata": {},
   "outputs": [],
   "source": [
    "timesheet_below = timesheet_with_means[\n",
    "    timesheet_with_means[\"hours-logged\"] < timesheet_with_means[\"mean_hours-logged\"]\n",
    "]\n",
    "display(timesheet_below.head(), timesheet_below.tail())\n"
   ]
  },
  {
   "cell_type": "code",
   "execution_count": null,
   "metadata": {},
   "outputs": [],
   "source": [
    "# Cómputo de la cantidad de horas y millas de cada conductor por año\n",
    "sum_timesheet = timesheet.groupby(\"driverId\").sum()\n",
    "sum_timesheet.head(10)\n"
   ]
  },
  {
   "cell_type": "code",
   "execution_count": null,
   "metadata": {},
   "outputs": [],
   "source": [
    "####\n",
    "\n",
    "sum_timesheet = sum_timesheet[[\"hours-logged\", \"miles-logged\"]]\n",
    "sum_timesheet.head()\n",
    "\n",
    "\n",
    "\n"
   ]
  },
  {
   "cell_type": "code",
   "execution_count": null,
   "metadata": {},
   "outputs": [],
   "source": [
    "\n",
    "timesheet.groupby(\"driverId\")[\"hours-logged\"].agg([\"min\", \"max\"])"
   ]
  },
  {
   "cell_type": "code",
   "execution_count": null,
   "metadata": {},
   "outputs": [],
   "source": [
    "# Unión de las tablas usando join\n",
    "summary = pd.merge(\n",
    "    sum_timesheet,\n",
    "    drivers[[\"driverId\", \"name\"]],\n",
    "    on=\"driverId\",\n",
    ")\n",
    "summary"
   ]
  },
  {
   "cell_type": "code",
   "execution_count": null,
   "metadata": {},
   "outputs": [],
   "source": [
    "# Almacenamiento de los resultados\n",
    "import os\n",
    "\n",
    "if not os.path.exists(\"../files/output\"):\n",
    "    os.makedirs(\"../files/output\")\n",
    "\n",
    "summary.to_csv(\n",
    "    \"../files/output/summary.csv\",\n",
    "    sep=\",\",\n",
    "    header=True,\n",
    "    index=False,\n",
    ")\n"
   ]
  },
  {
   "cell_type": "code",
   "execution_count": null,
   "metadata": {},
   "outputs": [],
   "source": [
    "# Ordenamiento por la cantidad de millas registradas\n",
    "top10 = summary.sort_values(by=\"miles-logged\", ascending=False).head(10)\n",
    "top10"
   ]
  },
  {
   "cell_type": "code",
   "execution_count": null,
   "metadata": {},
   "outputs": [],
   "source": [
    "\n",
    "# Creación de un gráfico de barras horizontales\n",
    "# La columna 'name' pasa a ser el nombre de las filas\n",
    "top10 = top10.set_index(\"name\")\n",
    "\n",
    "# Paleta de colores:\n",
    "#   tab:blue     tab:red       tab:pink\n",
    "#   tab:orange   tab:purple    tab:gray\n",
    "#   tab:green    tab:brown     tab:olive\n",
    "#   tab:cyan\n",
    "top10[\"miles-logged\"].plot.barh(color=\"tab:orange\", alpha=0.6)\n",
    "\n",
    "plt.gca().invert_yaxis()\n",
    "\n",
    "plt.gca().get_xaxis().set_major_formatter(\n",
    "    matplotlib.ticker.FuncFormatter(lambda x, p: format(int(x), \",\"))\n",
    ")\n",
    "\n",
    "plt.xticks(rotation=90)\n",
    "\n",
    "plt.gca().spines[\"left\"].set_color(\"lightgray\")\n",
    "plt.gca().spines[\"bottom\"].set_color(\"gray\")\n",
    "plt.gca().spines[\"top\"].set_visible(False)\n",
    "plt.gca().spines[\"right\"].set_visible(False)\n",
    "\n",
    "if not os.path.exists(\"../files/plots\"):\n",
    "    os.makedirs(\"../files/plots\")\n",
    "\n",
    "plt.savefig(\"../files/plots/top10_drivers.png\", bbox_inches=\"tight\")\n"
   ]
  }
 ],
 "metadata": {
  "kernelspec": {
   "display_name": ".venv",
   "language": "python",
   "name": "python3"
  },
  "language_info": {
   "name": "python",
   "version": "3.12.4"
  }
 },
 "nbformat": 4,
 "nbformat_minor": 2
}
